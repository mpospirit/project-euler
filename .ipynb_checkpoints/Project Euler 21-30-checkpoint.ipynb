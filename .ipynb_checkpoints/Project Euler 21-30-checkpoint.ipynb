{
 "cells": [
  {
   "cell_type": "markdown",
   "id": "c17bccac",
   "metadata": {},
   "source": [
    "# Project Euler 21-30"
   ]
  },
  {
   "cell_type": "code",
   "execution_count": 4,
   "id": "91264b9f",
   "metadata": {},
   "outputs": [],
   "source": [
    "import numpy as np\n",
    "import pandas as pd\n",
    "from itertools import combinations"
   ]
  },
  {
   "cell_type": "markdown",
   "id": "c606424e",
   "metadata": {},
   "source": [
    "### Amicable numbers\n",
    "#### Problem 21\n",
    "Let d(n) be defined as the sum of proper divisors of n (numbers less than n which divide evenly into n).\n",
    "If d(a) = b and d(b) = a, where a ≠ b, then a and b are an amicable pair and each of a and b are called amicable numbers.\n",
    "\n",
    "For example, the proper divisors of 220 are 1, 2, 4, 5, 10, 11, 20, 22, 44, 55 and 110; therefore d(220) = 284. The proper divisors of 284 are 1, 2, 4, 71 and 142; so d(284) = 220.\n",
    "\n",
    "Evaluate the sum of all the amicable numbers under 10000."
   ]
  },
  {
   "cell_type": "code",
   "execution_count": 19,
   "id": "b179d9c0",
   "metadata": {},
   "outputs": [],
   "source": [
    "np.warnings.filterwarnings('ignore', category=np.VisibleDeprecationWarning)"
   ]
  },
  {
   "cell_type": "code",
   "execution_count": 46,
   "id": "a739a59b",
   "metadata": {},
   "outputs": [
    {
     "name": "stdout",
     "output_type": "stream",
     "text": [
      "[0, 1, 220, 284, 1184, 1210, 2620, 2924, 5020, 5564, 6232, 6368] 31627\n"
     ]
    }
   ],
   "source": [
    "def prime_factors(n): \n",
    "    factors = [] \n",
    "    if n > 1: \n",
    "        i = 2 \n",
    "        while n % i != 0: \n",
    "            i += 1 \n",
    "        factors.append(i) \n",
    "        factors.extend(prime_factors(n / i)) \n",
    "    return factors\n",
    "\n",
    "def unique_divisors(number):\n",
    "    lis=prime_factors(number)\n",
    "    my_array=[]\n",
    "\n",
    "    for i in range(1, len(lis) + 1):\n",
    "        my_array.append(list(combinations(lis, i)))\n",
    "\n",
    "    flat_list = [item for sublist in my_array for item in sublist]\n",
    "    flat_list=np.array(flat_list)\n",
    "\n",
    "    df=pd.DataFrame(flat_list)\n",
    "\n",
    "    prod=[]\n",
    "\n",
    "    for i in df[0]:\n",
    "        prod.append(np.prod(i))\n",
    "\n",
    "    df['Prod']=prod\n",
    "    return df\n",
    "\n",
    "def d(number):\n",
    "    ans=sum(unique_divisors(number)[\"Prod\"].unique())-number+1\n",
    "    return ans\n",
    "\n",
    "amicable=[]\n",
    "\n",
    "for number in range(10000+1):\n",
    "    a=d(number)\n",
    "    if d(a)==number and a!=number:\n",
    "        amicable.append(number)\n",
    "        \n",
    "print(amicable, sum(amicable))"
   ]
  },
  {
   "cell_type": "markdown",
   "id": "191426d3",
   "metadata": {},
   "source": [
    "Exclude 1: 31626"
   ]
  },
  {
   "cell_type": "markdown",
   "id": "b1547438",
   "metadata": {},
   "source": [
    "### Names scores\n",
    "\n",
    "#### Problem 22\n",
    "Using names.txt (right click and 'Save Link/Target As...'), a 46K text file containing over five-thousand first names, begin by sorting it into alphabetical order. Then working out the alphabetical value for each name, multiply this value by its alphabetical position in the list to obtain a name score.\n",
    "\n",
    "For example, when the list is sorted into alphabetical order, COLIN, which is worth 3 + 15 + 12 + 9 + 14 = 53, is the 938th name in the list. So, COLIN would obtain a score of 938 × 53 = 49714.\n",
    "\n",
    "What is the total of all the name scores in the file?"
   ]
  },
  {
   "cell_type": "code",
   "execution_count": 79,
   "id": "06da0028",
   "metadata": {},
   "outputs": [],
   "source": [
    "file=pd.read_csv('p022_names.txt')\n",
    "file=file.sort_index(axis=1, ascending=True)\n",
    "names=list(file.columns)"
   ]
  },
  {
   "cell_type": "code",
   "execution_count": 82,
   "id": "d9eeb83c",
   "metadata": {},
   "outputs": [
    {
     "data": {
      "text/plain": [
       "871198282"
      ]
     },
     "execution_count": 82,
     "metadata": {},
     "output_type": "execute_result"
    }
   ],
   "source": [
    "alph_map={'A':1,'B':2,'C':3,'D':4,'E':5,'F':6,'G':7,'H':8,'I':9,'J':10,'K':11,'L':12,'M':13,\n",
    "          'N':14,'O':15,'P':16,'Q':17,'R':18,'S':19,'T':20,'U':21,'V':22,'W':23,'X':24,'Y':25,'Z':26}\n",
    "\n",
    "def name_to_number(name):\n",
    "    letter_list=[letter for letter in name]\n",
    "    return sum(alph_map[letter] for letter in letter_list)\n",
    "\n",
    "scores=[]\n",
    "i=1\n",
    "\n",
    "for name in names:\n",
    "    scores.append(i*name_to_number(name))\n",
    "#     print(name, name_to_number(name), i, i*name_to_number(name))\n",
    "    i+=1\n",
    "\n",
    "sum(scores)"
   ]
  }
 ],
 "metadata": {
  "kernelspec": {
   "display_name": "Python 3 (ipykernel)",
   "language": "python",
   "name": "python3"
  },
  "language_info": {
   "codemirror_mode": {
    "name": "ipython",
    "version": 3
   },
   "file_extension": ".py",
   "mimetype": "text/x-python",
   "name": "python",
   "nbconvert_exporter": "python",
   "pygments_lexer": "ipython3",
   "version": "3.8.12"
  }
 },
 "nbformat": 4,
 "nbformat_minor": 5
}
