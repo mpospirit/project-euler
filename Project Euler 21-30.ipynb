{
 "cells": [
  {
   "cell_type": "markdown",
   "id": "c17bccac",
   "metadata": {},
   "source": [
    "# Project Euler 21-30"
   ]
  },
  {
   "cell_type": "code",
   "execution_count": 1,
   "id": "91264b9f",
   "metadata": {},
   "outputs": [],
   "source": [
    "import numpy as np\n",
    "import pandas as pd\n",
    "from itertools import combinations"
   ]
  },
  {
   "cell_type": "markdown",
   "id": "c606424e",
   "metadata": {},
   "source": [
    "### Amicable numbers\n",
    "#### Problem 21\n",
    "Let d(n) be defined as the sum of proper divisors of n (numbers less than n which divide evenly into n).\n",
    "If d(a) = b and d(b) = a, where a ≠ b, then a and b are an amicable pair and each of a and b are called amicable numbers.\n",
    "\n",
    "For example, the proper divisors of 220 are 1, 2, 4, 5, 10, 11, 20, 22, 44, 55 and 110; therefore d(220) = 284. The proper divisors of 284 are 1, 2, 4, 71 and 142; so d(284) = 220.\n",
    "\n",
    "Evaluate the sum of all the amicable numbers under 10000."
   ]
  },
  {
   "cell_type": "code",
   "execution_count": 3,
   "id": "b179d9c0",
   "metadata": {},
   "outputs": [],
   "source": [
    "np.warnings.filterwarnings(\"ignore\", category=np.VisibleDeprecationWarning)"
   ]
  },
  {
   "cell_type": "code",
   "execution_count": 4,
   "id": "a739a59b",
   "metadata": {},
   "outputs": [],
   "source": [
    "def prime_factors(n):\n",
    "    factors = []\n",
    "    if n > 1:\n",
    "        i = 2\n",
    "        while n % i != 0:\n",
    "            i += 1\n",
    "        factors.append(i)\n",
    "        factors.extend(prime_factors(n / i))\n",
    "    return factors\n",
    "\n",
    "\n",
    "def unique_divisors(number):\n",
    "    lis = prime_factors(number)\n",
    "    my_array = []\n",
    "\n",
    "    for i in range(1, len(lis) + 1):\n",
    "        my_array.append(list(combinations(lis, i)))\n",
    "\n",
    "    flat_list = [item for sublist in my_array for item in sublist]\n",
    "    flat_list = np.array(flat_list)\n",
    "\n",
    "    df = pd.DataFrame(flat_list)\n",
    "\n",
    "    prod = []\n",
    "\n",
    "    for i in df[0]:\n",
    "        prod.append(np.prod(i))\n",
    "\n",
    "    df[\"Prod\"] = prod\n",
    "    return df"
   ]
  },
  {
   "cell_type": "code",
   "execution_count": null,
   "id": "52632d7d",
   "metadata": {},
   "outputs": [],
   "source": [
    "\n",
    "def d(number):\n",
    "    ans = sum(unique_divisors(number)[\"Prod\"].unique()) - number + 1\n",
    "    return ans\n",
    "\n",
    "\n",
    "amicable = []\n",
    "\n",
    "for number in range(10000 + 1):\n",
    "    a = d(number)\n",
    "    if d(a) == number and a != number:\n",
    "        amicable.append(number)\n",
    "\n",
    "print(amicable, sum(amicable))"
   ]
  },
  {
   "cell_type": "markdown",
   "id": "191426d3",
   "metadata": {},
   "source": [
    "Exclude 1: 31626"
   ]
  },
  {
   "cell_type": "markdown",
   "id": "b1547438",
   "metadata": {},
   "source": [
    "### Names scores\n",
    "\n",
    "#### Problem 22\n",
    "Using names.txt (right click and 'Save Link/Target As...'), a 46K text file containing over five-thousand first names, begin by sorting it into alphabetical order. Then working out the alphabetical value for each name, multiply this value by its alphabetical position in the list to obtain a name score.\n",
    "\n",
    "For example, when the list is sorted into alphabetical order, COLIN, which is worth 3 + 15 + 12 + 9 + 14 = 53, is the 938th name in the list. So, COLIN would obtain a score of 938 × 53 = 49714.\n",
    "\n",
    "What is the total of all the name scores in the file?"
   ]
  },
  {
   "cell_type": "code",
   "execution_count": 4,
   "id": "06da0028",
   "metadata": {},
   "outputs": [],
   "source": [
    "file = pd.read_csv(\"p022_names.txt\")\n",
    "file = file.sort_index(axis=1, ascending=True)\n",
    "names = list(file.columns)"
   ]
  },
  {
   "cell_type": "code",
   "execution_count": 5,
   "id": "d9eeb83c",
   "metadata": {},
   "outputs": [
    {
     "data": {
      "text/plain": [
       "871198282"
      ]
     },
     "execution_count": 5,
     "metadata": {},
     "output_type": "execute_result"
    }
   ],
   "source": [
    "alph_map = {\n",
    "    \"A\": 1,\n",
    "    \"B\": 2,\n",
    "    \"C\": 3,\n",
    "    \"D\": 4,\n",
    "    \"E\": 5,\n",
    "    \"F\": 6,\n",
    "    \"G\": 7,\n",
    "    \"H\": 8,\n",
    "    \"I\": 9,\n",
    "    \"J\": 10,\n",
    "    \"K\": 11,\n",
    "    \"L\": 12,\n",
    "    \"M\": 13,\n",
    "    \"N\": 14,\n",
    "    \"O\": 15,\n",
    "    \"P\": 16,\n",
    "    \"Q\": 17,\n",
    "    \"R\": 18,\n",
    "    \"S\": 19,\n",
    "    \"T\": 20,\n",
    "    \"U\": 21,\n",
    "    \"V\": 22,\n",
    "    \"W\": 23,\n",
    "    \"X\": 24,\n",
    "    \"Y\": 25,\n",
    "    \"Z\": 26,\n",
    "}\n",
    "\n",
    "\n",
    "def name_to_number(name):\n",
    "    letter_list = [letter for letter in name]\n",
    "    return sum(alph_map[letter] for letter in letter_list)\n",
    "\n",
    "\n",
    "scores = []\n",
    "i = 1\n",
    "\n",
    "for name in names:\n",
    "    scores.append(i * name_to_number(name))\n",
    "    #     print(name, name_to_number(name), i, i*name_to_number(name))\n",
    "    i += 1\n",
    "\n",
    "sum(scores)"
   ]
  },
  {
   "cell_type": "markdown",
   "id": "0bc988f0",
   "metadata": {},
   "source": [
    "### Non-abundant sums\n",
    "\n",
    "#### Problem 23\n",
    "A perfect number is a number for which the sum of its proper divisors is exactly equal to the number. For example, the sum of the proper divisors of 28 would be 1 + 2 + 4 + 7 + 14 = 28, which means that 28 is a perfect number.\n",
    "\n",
    "A number n is called deficient if the sum of its proper divisors is less than n and it is called abundant if this sum exceeds n.\n",
    "\n",
    "As 12 is the smallest abundant number, 1 + 2 + 3 + 4 + 6 = 16, the smallest number that can be written as the sum of two abundant numbers is 24. By mathematical analysis, it can be shown that all integers greater than 28123 can be written as the sum of two abundant numbers. However, this upper limit cannot be reduced any further by analysis even though it is known that the greatest number that cannot be expressed as the sum of two abundant numbers is less than this limit.\n",
    "\n",
    "Find the sum of all the positive integers which cannot be written as the sum of two abundant numbers."
   ]
  },
  {
   "cell_type": "code",
   "execution_count": 8,
   "id": "bb6186f8",
   "metadata": {},
   "outputs": [],
   "source": [
    "def abundant_numbers(n):\n",
    "    abundant = []\n",
    "    for number in range(1, n):\n",
    "        if sum(unique_divisors(number)[\"Prod\"].unique()) > number:\n",
    "            abundant.append(number)\n",
    "    return abundant\n",
    "\n",
    "listOf_abundantNumbers = abundant_numbers(28123)\n",
    "listOf_abundantNumbers"
   ]
  },
  {
   "cell_type": "code",
   "execution_count": null,
   "id": "1d693c6d",
   "metadata": {},
   "outputs": [],
   "source": [
    "abundantSums = []\n",
    "\n",
    "for i in listOf_abundantNumbers:\n",
    "    for j in listOf_abundantNumbers:\n",
    "        abundantSums.append(i + j)\n",
    "\n",
    "abundantSums"
   ]
  },
  {
   "cell_type": "code",
   "execution_count": null,
   "id": "a40e5c6c",
   "metadata": {},
   "outputs": [],
   "source": []
  },
  {
   "cell_type": "code",
   "execution_count": null,
   "id": "5b71e896",
   "metadata": {},
   "outputs": [],
   "source": []
  }
 ],
 "metadata": {
  "kernelspec": {
   "display_name": "Python 3.9.7 ('base')",
   "language": "python",
   "name": "python3"
  },
  "language_info": {
   "codemirror_mode": {
    "name": "ipython",
    "version": 3
   },
   "file_extension": ".py",
   "mimetype": "text/x-python",
   "name": "python",
   "nbconvert_exporter": "python",
   "pygments_lexer": "ipython3",
   "version": "3.9.7"
  },
  "vscode": {
   "interpreter": {
    "hash": "ad2bdc8ecc057115af97d19610ffacc2b4e99fae6737bb82f5d7fb13d2f2c186"
   }
  }
 },
 "nbformat": 4,
 "nbformat_minor": 5
}
